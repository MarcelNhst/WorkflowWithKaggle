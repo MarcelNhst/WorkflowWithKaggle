{
  "cells": [
    {
      "metadata": {
        "_uuid": "0f24d7365d21b1f978f0647e50ec41f2bcb0d46e"
      },
      "cell_type": "markdown",
      "source": "# **The Titanic Dataset Notebook** <br>\nThis Notebook are the results of teaching myself the standart workflow for a Data Science Challange. "
    },
    {
      "metadata": {
        "_uuid": "813374dbe3389dc62c8c3c0231c642f24311cfab"
      },
      "cell_type": "markdown",
      "source": "## Notebook Content\n1. [Introduction](#1)\n     1. [Import](#11)\n     2. [Get Data](#12)\n     3. [Adjustments](#13)\n2. [Data Exploration](#2)\n     1. [Feature Analysis](#21)\n     2. [Scatter Plot](#22)\n     3. [Histograms](#23)\n     4. [Boxplots](#24)\n     5. [Scattermatrix](#25)\n     6. [Advanced Scatterplot](#26)\n     7. [Violinplots](#27)\n     8. [Pairplot](#28)\n     9. [Jointplot](#29)\n     10. [Swarmplot](#210)\n     11. [Heatmap](#211)\n     12. [Barplot](#212)\n     13. [Factorplot](#213)\n     14. [Distplot](#214)\n     15. [Checking for empty entries](#215)\n3. [Data Cleaning](#3)\n     1. [Feature Transformation](#31)\n     2. [Feature Encoding](#32)\n4. [Model Deployment](#4)\n5. [Conclusion](#5)"
    },
    {
      "metadata": {
        "_uuid": "968bbbe86551fb8f83e3bfb31b703a57d3aebc56"
      },
      "cell_type": "markdown",
      "source": "<a id=\"1\"></a>\n## 1.0 Introduction"
    },
    {
      "metadata": {
        "_uuid": "bc027400c7159a487b8e0d8d3ff868b9083f5007"
      },
      "cell_type": "markdown",
      "source": "This Notebook shows a typical workflow of a data scientist. The data here is already cleaned though, which is very unusual in the real world. I wanted to use real data, to show all the algorithms in action. As a data scientist, it is very important to try out new things and test approaches, even if they sound wierd at the beginning. With this Notebook, I have a framework to tackle other problems in my private and work life and be able to get a quick glance at what I am currently facing. Feel free to use this Notebook for your own work and make sure to look at the references where I got my inspiration from. "
    },
    {
      "metadata": {
        "_uuid": "21ddfe1df21cba4f4cd10c718bbe4b1bbebab72d"
      },
      "cell_type": "markdown",
      "source": "<a id=\"11\"></a> \n### 1.1 Import"
    },
    {
      "metadata": {
        "trusted": true,
        "_uuid": "886b97d43b5cbdfb536c6a9b4c4bd671b28576da"
      },
      "cell_type": "code",
      "source": "from sklearn.metrics import make_scorer, accuracy_score\nfrom sklearn.model_selection import train_test_split\nfrom sklearn.ensemble import RandomForestClassifier\nfrom sklearn.linear_model import LogisticRegression\nfrom sklearn.metrics import classification_report\nfrom sklearn.model_selection import GridSearchCV\nfrom sklearn.metrics import confusion_matrix\nfrom sklearn.metrics import accuracy_score\nfrom sklearn import preprocessing\nimport matplotlib.pylab as pylab\nimport matplotlib.pyplot as plt\nfrom pandas import get_dummies\nimport matplotlib as mpl\nimport xgboost as xgb\nimport seaborn as sns\nimport pandas as pd\nimport numpy as np\nimport matplotlib\nimport warnings\nimport sklearn\nimport scipy\nimport numpy\nimport json\nimport sys\nimport csv\nimport os",
      "execution_count": null,
      "outputs": []
    },
    {
      "metadata": {
        "_uuid": "0344e73800a85cc4be7e1349ead2ef715219971e"
      },
      "cell_type": "markdown",
      "source": "Check the Versions of packages"
    },
    {
      "metadata": {
        "trusted": true,
        "_uuid": "5d30e4fe7f66385a21e40ebe35718c73dc029e16"
      },
      "cell_type": "code",
      "source": "print('matplotlib: {}'.format(matplotlib.__version__))\nprint('sklearn: {}'.format(sklearn.__version__))\nprint('scipy: {}'.format(scipy.__version__))\nprint('seaborn: {}'.format(sns.__version__))\nprint('pandas: {}'.format(pd.__version__))\nprint('numpy: {}'.format(np.__version__))\nprint('Python: {}'.format(sys.version))",
      "execution_count": null,
      "outputs": []
    },
    {
      "metadata": {
        "_uuid": "b005cba28d4fd70c4c942ab5b4077fd24f361c31"
      },
      "cell_type": "markdown",
      "source": "<a id=\"12\"></a> \n### 1.2 Get the Data to work with"
    },
    {
      "metadata": {
        "_cell_guid": "79c7e3d0-c299-4dcb-8224-4455121ee9b0",
        "_uuid": "d629ff2d2480ee46fbb7e2d37f6b5fab8052498a",
        "trusted": true
      },
      "cell_type": "code",
      "source": "titanic_df = pd.read_csv(\"../input/train.csv\")\ntest_df    = pd.read_csv(\"../input/test.csv\")",
      "execution_count": null,
      "outputs": []
    },
    {
      "metadata": {
        "_uuid": "1ce749601e93a47cf23bc5a55a45d8ee96e3d135"
      },
      "cell_type": "markdown",
      "source": "<a id=\"13\"></a> \n### 1.3 Adjustments\n<br>\nDo some tiny adjustments to make everything prettier"
    },
    {
      "metadata": {
        "trusted": true,
        "_uuid": "aa8da3eaf69159b76d8af59eb6a3cafe3b379cbc"
      },
      "cell_type": "code",
      "source": "sns.set(style='white', context='notebook', palette='deep')\npylab.rcParams['figure.figsize'] = 12,8\nwarnings.filterwarnings('ignore')\nmpl.style.use('ggplot')\nsns.set_style('white')\n%matplotlib inline",
      "execution_count": null,
      "outputs": []
    },
    {
      "metadata": {
        "_uuid": "c322428c33b74b9d542370403eaeb335b7580c7e"
      },
      "cell_type": "markdown",
      "source": "<a id=\"2\"></a>\n## 2.0 Data Exploration"
    },
    {
      "metadata": {
        "_uuid": "33e58e26492f4c1bea0a0c3d9f224ba11454d86b"
      },
      "cell_type": "markdown",
      "source": "<a id=\"21\"></a> \n### 2.1 Feature Analysis"
    },
    {
      "metadata": {
        "_uuid": "c4e6508aabac6808d54bf4b7097315179b2ccb4b"
      },
      "cell_type": "markdown",
      "source": "Luckily the features of this dataset were described pretty descent:\n* Age: Age of the person, fractional when under 1. If it is estimated, is has the following format: xx.5\n* Sibsp: Counts of siblings and spouses on the ship\n* Parch: Parents and/or children, some children traveled with a nanny, therefore parch=0 is still a option for very young passengers\n* Pclass: Ticket class the passanger bought. 1st is upperclass, 2nd is middleclass and 3rd lowerclass\n* embarked: Port of Embarkation (C = Cherbourg, Q = Queenstown, S = Southampton)\n* ticket: Ticketnumber\n* cabin: Cabin number\n* fare: passenger fare\n* sex: male of female\n* name: name of passenger\n* passengerID: no impact on the outcome, will be excluded"
    },
    {
      "metadata": {
        "_uuid": "2113fac9107cfaf466622ed4e613f8ffdf27f566"
      },
      "cell_type": "markdown",
      "source": "Lets take a look at sample data:"
    },
    {
      "metadata": {
        "trusted": true,
        "_uuid": "148b5eaa65494a849b44fd419c74a8a639a62f56"
      },
      "cell_type": "code",
      "source": "titanic_df.sample(5)",
      "execution_count": null,
      "outputs": []
    },
    {
      "metadata": {
        "_uuid": "5eb9242aa5cac7b9ea642adde560bc49dbd69a4d"
      },
      "cell_type": "markdown",
      "source": "<a id=\"22\"></a> \n### 2.2 Scatter Plots"
    },
    {
      "metadata": {
        "_kg_hide-output": false,
        "_kg_hide-input": true,
        "trusted": true,
        "_uuid": "1969cac88d0e4316c8564ed0f92e1e7edda3d0c9"
      },
      "cell_type": "code",
      "source": "plt.scatter(titanic_df['Survived'], titanic_df['Pclass'])\nplt.xlabel('survived')\nplt.ylabel('Pclass')\nplt.title('Pclass vs. survived')\nplt.show()",
      "execution_count": null,
      "outputs": []
    },
    {
      "metadata": {
        "_uuid": "645050d7f4ecee2c9d40b0d156b0b4c0ff1d7c3f"
      },
      "cell_type": "markdown",
      "source": "Obviusly this is not what I wanted to see, I wanted to see how many of the different classes survived and how many did not. I need to brainstorm about how to get this though. This might be better in a histogram.\nEdit: After getting to the boxplots, I think a stripplot might have been much more effective"
    },
    {
      "metadata": {
        "trusted": true,
        "_uuid": "416a618607368dd60d7eca5adfe7cabe1036b113"
      },
      "cell_type": "code",
      "source": "plt.scatter(titanic_df['Survived'], titanic_df['Sex'])\nplt.xlabel('survived')\nplt.ylabel('sex')\nplt.title('sex vs. survived')\nplt.show()",
      "execution_count": null,
      "outputs": []
    },
    {
      "metadata": {
        "trusted": true,
        "_uuid": "3844a944024d02f4aa0f13ae393b0a8cb7743fb9"
      },
      "cell_type": "code",
      "source": "plt.scatter(titanic_df['Survived'], titanic_df['Age'])\nplt.xlabel('survived')\nplt.ylabel('age')\nplt.title('age vs. survived')\nplt.show()",
      "execution_count": null,
      "outputs": []
    },
    {
      "metadata": {
        "trusted": true,
        "_uuid": "719d27e8465ebea360f2dad34d4e06714316ec04"
      },
      "cell_type": "code",
      "source": "plt.scatter(titanic_df['Survived'], titanic_df['SibSp'])\nplt.xlabel('survived')\nplt.ylabel('Siblings or spouses')\nplt.title('SibSp vs. survived')\nplt.show()",
      "execution_count": null,
      "outputs": []
    },
    {
      "metadata": {
        "trusted": true,
        "_uuid": "99335376790b53d05fccc90b1067bfb6d4987844"
      },
      "cell_type": "code",
      "source": "plt.scatter(titanic_df['Survived'], titanic_df['Parch'])\nplt.xlabel('survived')\nplt.ylabel('parents or children')\nplt.title('Parch vs. survived')\nplt.show()",
      "execution_count": null,
      "outputs": []
    },
    {
      "metadata": {
        "trusted": true,
        "_uuid": "713c629e52b1f170cb51b93e7b60d53cf6014ed4"
      },
      "cell_type": "code",
      "source": "plt.scatter(titanic_df['Survived'], titanic_df['Ticket']) #obviously not a good idea,  because every ticket is unique, but for fun I will try it \nplt.show()",
      "execution_count": null,
      "outputs": []
    },
    {
      "metadata": {
        "trusted": true,
        "_uuid": "656cff654fa4217842e4cbd02c96f1941d8a04f6"
      },
      "cell_type": "code",
      "source": "plt.scatter(titanic_df['Survived'], titanic_df['Fare'])\nplt.xlabel('Survived')\nplt.ylabel('Fare')\nplt.title('Fare vs. survived')\nplt.show()",
      "execution_count": null,
      "outputs": []
    },
    {
      "metadata": {
        "trusted": true,
        "_uuid": "b2dc96b85cb1b0cbd1302e0aee5fd084be8487c6"
      },
      "cell_type": "code",
      "source": "#plt.scatter(titanic_df['Survived'], titanic_df['Cabin'])\n#This does not work, because Cabins are not only numbers but strings like 'C52'",
      "execution_count": null,
      "outputs": []
    },
    {
      "metadata": {
        "trusted": true,
        "_uuid": "872f631ddc237fd614425d52b1b43974fec8292c"
      },
      "cell_type": "code",
      "source": "#plt.scatter(titanic_df['Survived'], titanic_df['Embarked']) 62, 830\n#This will need some data cleaning before it works (Nan to 0, C/Q/S to 1/2/3)",
      "execution_count": null,
      "outputs": []
    },
    {
      "metadata": {
        "_uuid": "f6e065d920af67b0d5938363d996754dbfc1b28c"
      },
      "cell_type": "markdown",
      "source": "<a id=\"23\"></a> \n### 2.3 Histograms"
    },
    {
      "metadata": {
        "trusted": true,
        "_uuid": "7ff0e9ae0bd5e7c2b1ddc85a0b2e64eb9d5cc538"
      },
      "cell_type": "code",
      "source": "titanic_df.hist(figsize=(20,20))\nplt.figure()",
      "execution_count": null,
      "outputs": []
    },
    {
      "metadata": {
        "_uuid": "b4f68cf4c506aa1d2145397b7b3e9c22d0025dda"
      },
      "cell_type": "markdown",
      "source": "Looking for a gaussian distribution, the age histogramm is getting our attention. We should take a closer look at it"
    },
    {
      "metadata": {
        "trusted": true,
        "_uuid": "07ae71518b472aabb8d19ef50540e77ca4727229"
      },
      "cell_type": "markdown",
      "source": "Lets split the histogramm into survived and not survived"
    },
    {
      "metadata": {
        "trusted": true,
        "_uuid": "33f58b7cadcb9866f31cae71608b0f02101d8458"
      },
      "cell_type": "code",
      "source": "noSurvivor = titanic_df[titanic_df['Survived']==0]\nnoSurvivor['Age'].hist()\n",
      "execution_count": null,
      "outputs": []
    },
    {
      "metadata": {
        "trusted": true,
        "_uuid": "8ae41b993b7ff70b62bbb10b48537d79db8106f8"
      },
      "cell_type": "code",
      "source": "allSurvivor = titanic_df[titanic_df['Survived']==1]\nallSurvivor['Age'].hist(color='green')\n",
      "execution_count": null,
      "outputs": []
    },
    {
      "metadata": {
        "_uuid": "e6e6a57061dd85b59744e8057aafa2be284a2e58"
      },
      "cell_type": "markdown",
      "source": "There seems to be a difference, especially very jung people had a better chance at survival as it seems. Still make sure to pay attention to the different scales of those two histograms!"
    },
    {
      "metadata": {
        "_uuid": "73b3bb37bbfb9c75a463af23d0e0b20fede9868a"
      },
      "cell_type": "markdown",
      "source": "Now lets see how many people even survived vs the amount who did not."
    },
    {
      "metadata": {
        "trusted": true,
        "_uuid": "7c6380cbbd73115192c5b65bf3810d5d0e0cc6f3"
      },
      "cell_type": "code",
      "source": "sns.countplot('Survived', data=titanic_df)",
      "execution_count": null,
      "outputs": []
    },
    {
      "metadata": {
        "_uuid": "eb96629ecc113557ee5b29a76dd0e2751e980f99"
      },
      "cell_type": "markdown",
      "source": "Now lets see how the sex played a role in the chance of survival you get."
    },
    {
      "metadata": {
        "trusted": true,
        "_uuid": "e3564bd21f8056c561b4ec2163a9b47057c0a206"
      },
      "cell_type": "code",
      "source": "sns.countplot('Sex', hue='Survived', data=titanic_df)",
      "execution_count": null,
      "outputs": []
    },
    {
      "metadata": {
        "_uuid": "1856d2ecd8263ac142190e9f7d4907eac1511d5a"
      },
      "cell_type": "markdown",
      "source": "And lets see if it is important on how rich you are"
    },
    {
      "metadata": {
        "trusted": true,
        "_uuid": "034a3d2eb123ee13b6b457e3da6c214a8698092d"
      },
      "cell_type": "code",
      "source": "sns.countplot('Pclass', hue='Survived', data=titanic_df)\nplt.title('Pclass: Survived vs Dead')\nplt.show()",
      "execution_count": null,
      "outputs": []
    },
    {
      "metadata": {
        "_uuid": "323afb0c9f5f5555a899afcb216454b3bf957ce8"
      },
      "cell_type": "markdown",
      "source": "<a id=\"24\"></a> \n### 2.4 Boxplots"
    },
    {
      "metadata": {
        "trusted": true,
        "_uuid": "e5d0c73f1bcbb05209b7a577c5465312146bb301"
      },
      "cell_type": "code",
      "source": "flierprops = dict(markerfacecolor='0.75', markersize=5, linestyle='none') #make outliers in the boxplot grey instead of a normal color\nsns.boxplot(x='Pclass', y='Fare', data=titanic_df, flierprops = flierprops)\nsns.stripplot(x='Pclass', y='Fare', data=titanic_df, jitter=True, edgecolor='gray')",
      "execution_count": null,
      "outputs": []
    },
    {
      "metadata": {
        "_uuid": "bb7ff1a45c7417796ff9a24ddbe25fe5eb306abe"
      },
      "cell_type": "markdown",
      "source": "Wie man sehen kann, sorgen ein paar wenige Fares im oberen Bereich für ein sehr starkes auseinanderziehen des Graphen."
    },
    {
      "metadata": {
        "trusted": true,
        "_uuid": "74101c3c1ca7ecc04beefa43a768af1e9755a6bf"
      },
      "cell_type": "code",
      "source": "sns.boxplot(x='Sex', y='Age', data=titanic_df)\nsns.stripplot(x='Sex', y='Age', data=titanic_df, jitter=True, edgecolor='gray')",
      "execution_count": null,
      "outputs": []
    },
    {
      "metadata": {
        "trusted": true,
        "_uuid": "7a951ef3dcb23835e5340a94b31492a33e5d2968"
      },
      "cell_type": "code",
      "source": "ax= sns.boxplot(x=\"Pclass\", y=\"Age\", data=titanic_df)\nax= sns.stripplot(x=\"Pclass\", y=\"Age\", data=titanic_df, jitter=True, edgecolor=\"gray\")\nplt.show()",
      "execution_count": null,
      "outputs": []
    },
    {
      "metadata": {
        "_uuid": "e853447d184479890dc58782d84b8b7781d672d1"
      },
      "cell_type": "markdown",
      "source": "<a id=\"25\"></a> \n### 2.5 Scattermatrix"
    },
    {
      "metadata": {
        "trusted": true,
        "_uuid": "e4f159729ffdf184214253b464e28017fcfde9bb"
      },
      "cell_type": "code",
      "source": "pd.plotting.scatter_matrix(titanic_df, figsize=(10,10))\nplt.figure()\n",
      "execution_count": null,
      "outputs": []
    },
    {
      "metadata": {
        "_uuid": "7024ddbdef0adb88e0ce44b4452e631e798f2d4c"
      },
      "cell_type": "markdown",
      "source": "Goal is to find correlations and predictable relationsships. Loog for diagonal grouping."
    },
    {
      "metadata": {
        "_uuid": "3744733c23c9f8127e8b6cd7133ccca88522b948"
      },
      "cell_type": "markdown",
      "source": "<a id=\"26\"></a> \n### 2.6 Advanced Scatterplots"
    },
    {
      "metadata": {
        "trusted": true,
        "_uuid": "6bcacf9ad758aa5fa488a83263eba84e429ed8cf"
      },
      "cell_type": "code",
      "source": "g = sns.FacetGrid(titanic_df, hue=\"Survived\", col=\"Sex\", margin_titles=True, palette={1:\"seagreen\", 0:\"gray\"})\ng = g.map(plt.scatter, \"SibSp\", \"Age\", edgecolor=\"w\").add_legend()",
      "execution_count": null,
      "outputs": []
    },
    {
      "metadata": {
        "trusted": true,
        "_uuid": "34726151d9f4197bd776b8f18e5b1d9dd5642278"
      },
      "cell_type": "code",
      "source": "g = sns.FacetGrid(titanic_df, hue=\"Survived\", col=\"Pclass\", margin_titles=True, palette={1:\"seagreen\", 0:\"gray\"})\ng = g.map(plt.scatter, \"Parch\", \"Fare\", edgecolor=\"w\").add_legend()",
      "execution_count": null,
      "outputs": []
    },
    {
      "metadata": {
        "trusted": true,
        "_uuid": "61241cde7801d9f1e30f793caf1928df163b4665"
      },
      "cell_type": "code",
      "source": "g = sns.FacetGrid(titanic_df, hue=\"Survived\", col=\"Pclass\", margin_titles=True, palette={1:\"seagreen\", 0:\"gray\"})\ng = g.map(plt.scatter, \"Age\", \"Parch\", edgecolor=\"w\").add_legend()",
      "execution_count": null,
      "outputs": []
    },
    {
      "metadata": {
        "trusted": true,
        "_uuid": "35048592bf66a1e5680b91f58d7b7418ab1a064a"
      },
      "cell_type": "code",
      "source": "g = sns.FacetGrid(titanic_df, hue=\"Survived\", col=\"Pclass\", margin_titles=True,\n                  palette={1:\"seagreen\", 0:\"gray\"})\ng=g.map(plt.scatter, \"Fare\", \"Age\",edgecolor=\"w\").add_legend();",
      "execution_count": null,
      "outputs": []
    },
    {
      "metadata": {
        "_uuid": "b96d5f941cecf1cc4fceb89591ba88018ddc6d88"
      },
      "cell_type": "markdown",
      "source": "<a id=\"27\"></a> \n### 2.7 Boxplots"
    },
    {
      "metadata": {
        "_uuid": "655538b6acccb8eb6abacb746cd0d442dde54555"
      },
      "cell_type": "markdown",
      "source": "Violinplots are good for comparing values where one or two are categorical and one is numerical"
    },
    {
      "metadata": {
        "trusted": true,
        "_uuid": "d80d682bd396fe3ea74d858e05b5a6cc985659b4"
      },
      "cell_type": "code",
      "source": "sns.violinplot(data=titanic_df, x=\"Sex\", y=\"Fare\")",
      "execution_count": null,
      "outputs": []
    },
    {
      "metadata": {
        "trusted": true,
        "_uuid": "8b1d744a67a599b294b4eda995c5e08c444a6dc8"
      },
      "cell_type": "code",
      "source": "sns.violinplot(data=titanic_df, x=\"Sex\", y=\"Age\", hue=\"Survived\", split=True)",
      "execution_count": null,
      "outputs": []
    },
    {
      "metadata": {
        "trusted": true,
        "_uuid": "bc6c5d0d739c15e02e1b1a438357ea9d2c43f1c2"
      },
      "cell_type": "code",
      "source": "f,ax=plt.subplots(1,2,figsize=(18,8))\nsns.violinplot(\"Pclass\",\"Age\", hue=\"Survived\", data=titanic_df,split=True,ax=ax[0])\nax[0].set_title('Pclass and Age vs Survived')\nax[0].set_yticks(range(0,110,10))\nsns.violinplot(\"Sex\",\"Age\", hue=\"Survived\", data=titanic_df,split=True,ax=ax[1])\nax[1].set_title('Sex and Age vs Survived')\nax[1].set_yticks(range(0,110,10))\nplt.show()",
      "execution_count": null,
      "outputs": []
    },
    {
      "metadata": {
        "_uuid": "9ac8bcc7ada54cca3302919306568c2b1c56efc5"
      },
      "cell_type": "markdown",
      "source": "<a id=\"28\"></a> \n### 2.8 Pairplot"
    },
    {
      "metadata": {
        "_uuid": "ded2994f1a830cae81cce1f8d6c907cd968ffaca"
      },
      "cell_type": "markdown",
      "source": "A pairplot is good to get an overview of paires of features, like a scattermatrix. But you can differenciate between one categorical value"
    },
    {
      "metadata": {
        "trusted": true,
        "_uuid": "39c95ba91c58070e169ab7a3eb5166562d7ef3af"
      },
      "cell_type": "code",
      "source": "sns.pairplot(titanic_df, hue=\"Survived\", palette={1:\"Seagreen\", 0:\"Grey\"})",
      "execution_count": null,
      "outputs": []
    },
    {
      "metadata": {
        "trusted": true,
        "_uuid": "1175aa166e097aab5a08583e4d0450b27a397111"
      },
      "cell_type": "code",
      "source": "sns.pairplot(titanic_df, hue=\"Sex\")",
      "execution_count": null,
      "outputs": []
    },
    {
      "metadata": {
        "_uuid": "68615da8ea551c8644393592c85507e9a7fa3556"
      },
      "cell_type": "markdown",
      "source": "<a id=\"29\"></a> \n### 2.9 Jointplot"
    },
    {
      "metadata": {
        "_uuid": "a35f1d21cd72dad7b354fdfe0778f2e27934e4e3"
      },
      "cell_type": "markdown",
      "source": "Good for showing relationships between two numerical features, aswell as how the distribution of those values in general are "
    },
    {
      "metadata": {
        "trusted": true,
        "_uuid": "a28081a7273bfedd206e2175ccd80fbbcbd58631"
      },
      "cell_type": "code",
      "source": "sns.jointplot(x='SibSp', y='Age', data=titanic_df, kind='reg')",
      "execution_count": null,
      "outputs": []
    },
    {
      "metadata": {
        "trusted": true,
        "_uuid": "b9fb2ecff972d708dce12dc4ee6d76e5924dcd4b"
      },
      "cell_type": "code",
      "source": "sns.jointplot(x='Fare', y='Age', data=titanic_df, kind='reg')",
      "execution_count": null,
      "outputs": []
    },
    {
      "metadata": {
        "_uuid": "57362a8f1dea7bf30b8bce9e4f08696d3621a5a5"
      },
      "cell_type": "markdown",
      "source": "<a id=\"210\"></a> \n### 2.10 Swarmplot"
    },
    {
      "metadata": {
        "_uuid": "1230585fb19f097363a4e6db2f943d7b5bf18b7d"
      },
      "cell_type": "markdown",
      "source": "A swarmplot is good for showing how many datapoints are in there in a relationship of categorical vs. numerical "
    },
    {
      "metadata": {
        "trusted": true,
        "_uuid": "c1977c8eb72f3cfb66d672ee52bf3b2717784781"
      },
      "cell_type": "code",
      "source": "sns.swarmplot(x='Survived', y=\"Age\", data=titanic_df)",
      "execution_count": null,
      "outputs": []
    },
    {
      "metadata": {
        "trusted": true,
        "_uuid": "492103ebc8973eb3509cd244e359d21b0eca7dcc"
      },
      "cell_type": "code",
      "source": "sns.swarmplot(x='Pclass',y='Age',data=titanic_df)",
      "execution_count": null,
      "outputs": []
    },
    {
      "metadata": {
        "_uuid": "c61ce4b9c308e185c9a9db41ee9c46f88e33268b"
      },
      "cell_type": "markdown",
      "source": "<a id=\"211\"></a> \n### 2.11 Heatmap"
    },
    {
      "metadata": {
        "_uuid": "48d28fb55e71bdf23ce4d14c0536ff3f40ed9eba"
      },
      "cell_type": "markdown",
      "source": "A heatmap can show, if there is any kind of correlation between two of the features of the dataset"
    },
    {
      "metadata": {
        "trusted": true,
        "_uuid": "2ce6fde340fe92df0d43fcc5d12115ed2d8dddac"
      },
      "cell_type": "code",
      "source": "plt.figure(figsize=(7, 4))\nsns.heatmap(titanic_df.corr(), annot=True, cmap='cubehelix_r') #draws a heatmap with the input as the correlation matrix calculated with iris.corr()\nplt.show()",
      "execution_count": null,
      "outputs": []
    },
    {
      "metadata": {
        "_uuid": "aec7109453204026eb048c72816c4c353a6b46d4"
      },
      "cell_type": "markdown",
      "source": "<a id=\"212\"></a> \n### 2.12 Barplot"
    },
    {
      "metadata": {
        "_uuid": "3d73ebe74491030e0220de02c61de076d82d7b3a"
      },
      "cell_type": "markdown",
      "source": "A barplot can show you the amount of datapoints in relation to a specific categorical feature\nSee also: sns.countplot"
    },
    {
      "metadata": {
        "trusted": true,
        "_uuid": "b1ef0e38a278df5aa975edb809d1aaf4b8cc9b8b"
      },
      "cell_type": "code",
      "source": "titanic_df['Sex'].value_counts().plot(kind=\"bar\")",
      "execution_count": null,
      "outputs": []
    },
    {
      "metadata": {
        "trusted": true,
        "_uuid": "51d67bce9c00c305657a891b09e7252f73a1a25b"
      },
      "cell_type": "code",
      "source": "titanic_df['Embarked'].value_counts().plot(kind=\"bar\")",
      "execution_count": null,
      "outputs": []
    },
    {
      "metadata": {
        "trusted": true,
        "_uuid": "168d4fdb9ede6856212d5c651f7c85b2a7fcfe72"
      },
      "cell_type": "code",
      "source": "titanic_df['Pclass'].value_counts().plot(kind=\"bar\")",
      "execution_count": null,
      "outputs": []
    },
    {
      "metadata": {
        "_uuid": "fb06047c550f9851f9eb3bc6fecfc332cf3b2f9a"
      },
      "cell_type": "markdown",
      "source": "<a id=\"213\"></a> \n### 2.13 Factorplot"
    },
    {
      "metadata": {
        "_uuid": "4a1e4d7ff228e721e4ff978abf921e08681ef678"
      },
      "cell_type": "markdown",
      "source": "A Factorplot shows how much variation is in a numerical feature split in one or two categorical features"
    },
    {
      "metadata": {
        "trusted": true,
        "_uuid": "eb395d88dc6035654ac2d6a9907fab31c5564419"
      },
      "cell_type": "code",
      "source": "sns.factorplot('Pclass', 'Fare', hue='Sex', data=titanic_df)\nplt.show()",
      "execution_count": null,
      "outputs": []
    },
    {
      "metadata": {
        "trusted": true,
        "_uuid": "71122ca2abdf0fce9fa03359f9dc3d7d34bc3e4a"
      },
      "cell_type": "code",
      "source": "sns.factorplot('Pclass', 'SibSp', hue='Sex', data=titanic_df)\nplt.show()",
      "execution_count": null,
      "outputs": []
    },
    {
      "metadata": {
        "trusted": true,
        "_uuid": "77ad344804bd76397cddab46b482af8a52920d33"
      },
      "cell_type": "code",
      "source": "sns.factorplot('Pclass', 'Survived', hue='Sex', data=titanic_df)\nplt.show()",
      "execution_count": null,
      "outputs": []
    },
    {
      "metadata": {
        "trusted": true,
        "_uuid": "b44bc6df1fe43f476d2c99056c956650af35360b"
      },
      "cell_type": "code",
      "source": "sns.factorplot('SibSp', 'Survived', hue='Pclass', data=titanic_df)\nplt.show()",
      "execution_count": null,
      "outputs": []
    },
    {
      "metadata": {
        "trusted": true,
        "_uuid": "81572a8719cc0b2d29427ae4a61805776eb0fd96"
      },
      "cell_type": "code",
      "source": "f,ax=plt.subplots(1,2,figsize=(20,8))\nsns.barplot('SibSp', 'Survived', data=titanic_df, ax=ax[0])\nax[0].set_title('SibSp vs Survived in BarPlot')\nsns.factorplot('SibSp', 'Survived', data=titanic_df, ax=ax[1])\nax[1].set_title('SibSp vs Survived in a Factorplot')\nplt.close(2)\nplt.show()",
      "execution_count": null,
      "outputs": []
    },
    {
      "metadata": {
        "_uuid": "426766c619d3c49097b293fc80bb94ca606b7c9f"
      },
      "cell_type": "markdown",
      "source": "<a id=\"214\"></a> \n### 2.14 Distplot"
    },
    {
      "metadata": {
        "_uuid": "453855596785d907614976daabb5f96f42283be7"
      },
      "cell_type": "markdown",
      "source": "Shows how many Datapoins contribute to one numerical feature"
    },
    {
      "metadata": {
        "trusted": true,
        "_uuid": "f7c5ac66898011e2f271e788da1ffaa496885f7c"
      },
      "cell_type": "code",
      "source": "sns.distplot(titanic_df.Fare)",
      "execution_count": null,
      "outputs": []
    },
    {
      "metadata": {
        "trusted": true,
        "_uuid": "4ec0e07627d199c78dd94dc45f780cdc03b8e72a"
      },
      "cell_type": "code",
      "source": "f, ax=plt.subplots(1, 3, figsize=(20, 8))\nsns.distplot(titanic_df[titanic_df['Pclass']==1].Fare, ax=ax[0])\nax[0].set_title('Fares in Pclass 1')\nsns.distplot(titanic_df[titanic_df['Pclass']==2].Fare, ax=ax[1])\nax[1].set_title('Fares in Pclass 2')\nsns.distplot(titanic_df[titanic_df['Pclass']==3].Fare, ax=ax[2])\nax[2].set_title('Fares in Pclass 3')",
      "execution_count": null,
      "outputs": []
    },
    {
      "metadata": {
        "_uuid": "70414ec10cb31f2bf9d10b4038367d5169e56705"
      },
      "cell_type": "markdown",
      "source": "<a id=\"215\"></a> \n### 2.15 Checking for empty entries\nIt is very helpful to know where entires are missing and what needs to be filled before we can start with training our first model. This function helps us to get an overview over our data."
    },
    {
      "metadata": {
        "trusted": true,
        "_uuid": "814c7462ba5b7c1502e7b8803072914bbeaad18e"
      },
      "cell_type": "code",
      "source": "def check_missing_data(df):\n    flag=df.isna().sum().any()\n    if flag==True:\n        total = df.isnull().sum()\n        percent = (df.isnull().sum())/(df.isnull().count()*100)\n        output = pd.concat([total, percent], axis=1, keys=['Total', 'Percent'])\n        data_type = []\n        # written by MJ Bahmani\n        for col in df.columns:\n            dtype = str(df[col].dtype)\n            data_type.append(dtype)\n        output['Types'] = data_type\n        return(np.transpose(output))\n    else:\n        return(False)",
      "execution_count": null,
      "outputs": []
    },
    {
      "metadata": {
        "trusted": true,
        "_uuid": "a43b3769f2210272bcadeeac73418414f4fab834"
      },
      "cell_type": "code",
      "source": "check_missing_data(titanic_df)",
      "execution_count": null,
      "outputs": []
    },
    {
      "metadata": {
        "trusted": true,
        "_uuid": "daef2677fd81815664f8e569a18565c2bbcfe6fe"
      },
      "cell_type": "markdown",
      "source": "<a id=\"3\"></a>\n## 3.0 Data Cleaning"
    },
    {
      "metadata": {
        "trusted": true,
        "_uuid": "cd268ab0658ef0254fc5dc2823776e24dd26027b"
      },
      "cell_type": "markdown",
      "source": "Data Cleaning is a technique used to format raw data into a usable data set. Most algorithms work very well with numbers and not so well with strings for example. Most of the datasets you see in real life will have outliers, empty entries and probably even false data. A data scientist will probably spend most of his time solving this issues and getting to know the data. Here are just some steps which are included in the data cleaning process:\n* removing Taget column (id)\n* Sampling (without replacement)\n* Dealing with Imbalanced Data\n* Introducing missing values and treating them (f.e. replacing them with 0, the average value, etc.)\n* Noise filtering\n* Data discretization\n* Normalization and standardization\n* PCA analysis\n* Feature selection (filter, embedded, wrapper)"
    },
    {
      "metadata": {
        "_uuid": "a475cef450ba73c6096e38fbdd323596a6251014"
      },
      "cell_type": "markdown",
      "source": "<a id=\"31\"></a>\n### 3.1 Feature Transformation"
    },
    {
      "metadata": {
        "_uuid": "a2a7035ad5175b21864d2ef07e8d4f0bc02d3754"
      },
      "cell_type": "markdown",
      "source": "To simplify the data, we can transform some features into simple categorical data. We want to do this with the age and the fare. Also we want to deal with empty values for the cabin number and split the name."
    },
    {
      "metadata": {
        "trusted": true,
        "_uuid": "3e29dcdc4f22f757cd817de6739521829521517e"
      },
      "cell_type": "code",
      "source": "#Using the pd.cut() method, we are able to turn numerical features into categorical ones with just a couple lines of code\ndef simplify_ages(df):\n    df.Age = df.Age.fillna(-0.5)\n    bins = (-1, 0, 5, 12, 18, 25, 35, 60, 120)\n    group_names = ['Unknown', 'Baby', 'Child', 'Teenager', 'Student', 'Young Adult', 'Adult', 'Senior']\n    categories = pd.cut(df.Age, bins, labels=group_names)\n    df.Age = categories\n    return df\n\n#Fill empty entries with the letter N and cut off every other Number after the first Letter, which is probably an indication for the level of the cabin\ndef simplify_cabins(df):\n    df.Cabin = df.Cabin.fillna('N')\n    df.Cabin = df.Cabin.apply(lambda x: x[0])\n    return df\n\n#Using the pd.cut() method again, pretty self explanatory but I think it is awesome\ndef simplify_fares(df):\n    df.Fare = df.Fare.fillna(-0.5)\n    bins = (-1, 0, 8, 15, 31, 1000)\n    group_names = ['Unknown', '1_quartile', '2_quartile', '3_quartile', '4_quartile']\n    categories = pd.cut(df.Fare, bins, labels=group_names)\n    df.Fare = categories\n    return df\n\n#Splitting the Name into LastName and NamePrefix\ndef format_name(df):\n    df['Lname'] = df.Name.apply(lambda x: x.split(' ')[0])\n    df['NamePrefix'] = df.Name.apply(lambda x: x.split(' ')[1])\n    return df\n\n#Lets drop the features we don't need for predicting life and death\ndef drop_features(df):\n    return df.drop(['Ticket', 'Name', 'Embarked'], axis=1)\n\n#Putting it all together for easy access\ndef transform_features(df):\n    df = simplify_ages(df)\n    df = simplify_cabins(df)\n    df = simplify_fares(df)\n    df = format_name(df)\n    df = drop_features(df)\n    return df\n\n\ntitanic_df = transform_features(titanic_df)\ntest_df = transform_features(test_df)\ntitanic_df.head()\ntest_df.head()",
      "execution_count": null,
      "outputs": []
    },
    {
      "metadata": {
        "_uuid": "63b9a826436bfdead37cce12223343670a92b8a6"
      },
      "cell_type": "markdown",
      "source": "<a id=\"32\"></a>\n### 3.2 Feature Encoding\nMost of the machine learning algorithms like to work with numbers. However, there are often a lot of categorical features, which are not numbers (f.e. Cabin, Sex, Name). To be able to use them for our algorithms, it is a good idea to encode them into numerical features. We will use the [LabelEncoder](https://scikit-learn.org/stable/modules/generated/sklearn.preprocessing.LabelEncoder.html) in that example to normalize and transform our categorical features."
    },
    {
      "metadata": {
        "trusted": true,
        "_uuid": "e9e66a36b3814dacd322fad5b618501963521598"
      },
      "cell_type": "code",
      "source": "#takes both dataframes (train and test) and encodes the features defined as features variable\ndef encode_features(titanic_df, test_df):\n    #define features here\n    features = ['Fare', 'Cabin', 'Age', 'Sex', 'Lname', 'NamePrefix']\n    \n    #combine both dataframes\n    df_combined = pd.concat([titanic_df[features], test_df[features]])\n    \n    #loop over features\n    for feature in features:\n        #create instance of an LabelEncoder\n        le = preprocessing.LabelEncoder()\n        le = le.fit(df_combined[feature])\n        titanic_df[feature] = le.transform(titanic_df[feature])\n        test_df[feature] = le.transform(test_df[feature])\n    return titanic_df, test_df",
      "execution_count": null,
      "outputs": []
    },
    {
      "metadata": {
        "trusted": true,
        "_uuid": "1e31f80e690eefed6d54b83c1843f25f4b2f6bc2"
      },
      "cell_type": "code",
      "source": "titanic_df, test_df = encode_features(titanic_df, test_df)",
      "execution_count": null,
      "outputs": []
    },
    {
      "metadata": {
        "trusted": true,
        "_uuid": "4ebbbb00bfd882d8443433313ca7fedebcfa84a8"
      },
      "cell_type": "code",
      "source": "titanic_df.head()",
      "execution_count": null,
      "outputs": []
    },
    {
      "metadata": {
        "trusted": true,
        "_uuid": "f03b19b85f5dc821109f827ee438aa833db553e4"
      },
      "cell_type": "markdown",
      "source": "<a id=\"4\"></a>\n## 4.0 Model Deployment"
    },
    {
      "metadata": {
        "_uuid": "a317c494848edc723af22ebcb3dd4ed03c052767"
      },
      "cell_type": "markdown",
      "source": "In this section a lot of different learning algorithms were applied to the dataset. What algorithm you want and need for your problem, depends on the features and targets you have. It is never a bad idea to try out different things though. "
    },
    {
      "metadata": {
        "_uuid": "b97e2d7c987fd87a7a083a999a5d38db42dd798d"
      },
      "cell_type": "markdown",
      "source": "<a id=\"41\"></a>\n### 4.1 Categories of ML algorithms\n\nML algorithms are categorized into the type of learning they are applicable for. \n* Classification\n    * Linear Regression\n    * k-Nearest Neighbors\n    * Support Vector Machines\n    * Decision Trees\n    * Neural Networks\n* Clustering\n    * K-means\n    * HCA\n    * Expected Maximization\n* Visualization and dimension reduction\n    * Principal Component Analysis (PCA)\n    * Locally-Linear Embedding (LLE)\n    * t-distributed Stochastic Neighbor Embedding (t-SNE)\n* Association rule Learning\n    * Apriori\n    * Exlat\n* Semisupervised Learning\n* Reinforcement Learning\n    * Q-learning\n* Batch learning & online learning\n* Ensemble Learning"
    },
    {
      "metadata": {
        "_uuid": "170bda20e2265436d62add05289fc88b87b1bb0d"
      },
      "cell_type": "markdown",
      "source": "<a id=\"42\"></a>\n### 4.2 Preparing Features and Targets\nSeperating the encoded dataset into features and tragets to be able to work with them easily. This has to be done with both the train dataset and the test dataset."
    },
    {
      "metadata": {
        "trusted": true,
        "_uuid": "21fbfc022545f97587d3c6b660be1df39c40677e"
      },
      "cell_type": "code",
      "source": "x_all = titanic_df.drop(['Survived', 'PassengerId'], axis=1)\ny_all = titanic_df['Survived']",
      "execution_count": null,
      "outputs": []
    },
    {
      "metadata": {
        "trusted": true,
        "_uuid": "f993716f85c053da34b47073a2bae6551be3d46f"
      },
      "cell_type": "code",
      "source": "num_test = 0.3\nX_train, X_test, y_train, y_test = train_test_split(x_all, y_all, test_size=num_test, random_state=100)",
      "execution_count": null,
      "outputs": []
    },
    {
      "metadata": {
        "_uuid": "c14f49a44d4f320f7e90ff3f60add69c6f070709"
      },
      "cell_type": "markdown",
      "source": "<a id=\"43\"></a>\n### 4.3 Accuracy and precision\nTODO: Research"
    },
    {
      "metadata": {
        "_uuid": "f51c2970db089c386d0a6732de93ab1a38dda2ed"
      },
      "cell_type": "markdown",
      "source": "<a id=\"44\"></a>\n### 4.4 RandomForestClassifier"
    },
    {
      "metadata": {
        "_uuid": "3c9685cc293b2948bf4e717013d7121622b5ceb3"
      },
      "cell_type": "markdown",
      "source": "A random forest uses a number of different decision trees on various sub-samples and uses averaging to improve the predictive accuracy and reduce overfitting. "
    },
    {
      "metadata": {
        "trusted": true,
        "_uuid": "9ffd5f501144437da3c32fdad6528cb97ed64c5e"
      },
      "cell_type": "code",
      "source": "# Choose the type of classifier\nrfc = RandomForestClassifier()\n\n# Choose some parameter combinations to try\nparameters = {'n_estimators': [4, 6, 9],\n              'max_features': ['log2', 'sqrt', 'auto'],\n              'criterion': ['entropy', 'gini'],\n              'max_depth': [2, 3, 5, 10],\n              'min_samples_split': [2, 3, 5],\n              'min_samples_leaf': [1, 5, 8]\n             }\n\n# Type of scoring used to compare parameter combinations\nacc_scorer = make_scorer(accuracy_score)\n\n# Run the grid search\ngrid_obj = GridSearchCV(rfc, parameters, scoring=acc_scorer)\ngrid_obj = grid_obj.fit(X_train, y_train)\n\n# Set the clf to the best combination of parameters\nrfc = grid_obj.best_estimator_\n\nrfc.fit(X_train, y_train)",
      "execution_count": null,
      "outputs": []
    },
    {
      "metadata": {
        "_uuid": "f85bd087afd39b352219f847a8ab9557ad0ec4cb"
      },
      "cell_type": "markdown",
      "source": "Get the score"
    },
    {
      "metadata": {
        "trusted": true,
        "_uuid": "80806f092c3c8a41c8d5874a65da77041ad3d890"
      },
      "cell_type": "code",
      "source": "rfc_prediction = rfc.predict(X_test)\nrfc_score=accuracy_score(y_test, rfc_prediction)\nprint(rfc_score)",
      "execution_count": null,
      "outputs": []
    },
    {
      "metadata": {
        "_uuid": "b6b6af84c4a1cd1d0bfa96fff2eb51664825fd82"
      },
      "cell_type": "markdown",
      "source": "<a id=\"45\"></a>\n### 4.5 XGBoost\n[XGBoost](https://en.wikipedia.org/wiki/XGBoost) is an open-source software library which provides a gradient boosting framework for C++, Java, Python, R, and Julia. it aims to provide a \"Scalable, Portable and Distributed Gradient Boosting (GBM, GBRT, GBDT) Library\". "
    },
    {
      "metadata": {
        "trusted": true,
        "_uuid": "bf42e26f2b212c043af31bb4ba13c10da3f363f6"
      },
      "cell_type": "code",
      "source": "xgboost = xgb.XGBClassifier(max_depth=3, n_estimators=300, learning_rate=0.05).fit(X_train, y_train)",
      "execution_count": null,
      "outputs": []
    },
    {
      "metadata": {
        "_uuid": "2a929baeacc9c0e6934a323a5da5dbdafff90454"
      },
      "cell_type": "markdown",
      "source": "Get the score"
    },
    {
      "metadata": {
        "trusted": true,
        "_uuid": "db4bf0f43391dbeb73aff6830d24629343f4dc8c"
      },
      "cell_type": "code",
      "source": "xgb_prediction = xgboost.predict(X_test)\nxgb_score=accuracy_score(y_test, xgb_prediction)\nprint(xgb_score)",
      "execution_count": null,
      "outputs": []
    },
    {
      "metadata": {
        "_uuid": "c56c96c74fa4d270ea6904b3c2099dc6985d21f0"
      },
      "cell_type": "markdown",
      "source": "<a id=\"46\"></a>\n### 4.6 Logistic Regression\nLogistic regression is one of the most used statistical models. In its basic form, it uses a logistic function to model a binary dependent variable."
    },
    {
      "metadata": {
        "trusted": true,
        "_uuid": "2fee03e7da81891e9dd6a4bc3da95bfc2333d0e0"
      },
      "cell_type": "code",
      "source": "logreg = LogisticRegression()\nlogreg.fit(X_train, y_train)",
      "execution_count": null,
      "outputs": []
    },
    {
      "metadata": {
        "_uuid": "89b2c4229c733c72ca06c557e72cf08cba1661fb"
      },
      "cell_type": "markdown",
      "source": "Get the score"
    },
    {
      "metadata": {
        "trusted": true,
        "_uuid": "5a3def740c1cb63c9f576583c527c2bf490388ae"
      },
      "cell_type": "code",
      "source": "logreg_prediction = logreg.predict(X_test)\nlogreg_score = accuracy_score(y_test, logreg_prediction)\nprint(logreg_score)",
      "execution_count": null,
      "outputs": []
    },
    {
      "metadata": {
        "_uuid": "5c5730ae73e1325dbaf463a2ab5955f8020357b3"
      },
      "cell_type": "markdown",
      "source": "<a id=\"47\"></a>\n### 4.7 DecisionTreeRegressor"
    },
    {
      "metadata": {
        "trusted": true,
        "_uuid": "6ff3465fd4149fc29f3d38ab2ad498273ac478f4"
      },
      "cell_type": "code",
      "source": "from sklearn.tree import DecisionTreeRegressor\n\n#Define model. Specify a number for random_state to ensure same results each run\ndt = DecisionTreeRegressor(random_state=1)\ndt.fit(X_train, y_train)",
      "execution_count": null,
      "outputs": []
    },
    {
      "metadata": {
        "_uuid": "4f87f9a4823ce23ef41de970744e4c64774b196b"
      },
      "cell_type": "markdown",
      "source": "Get the score"
    },
    {
      "metadata": {
        "trusted": true,
        "_uuid": "96a41d89c0a86845626d366e81f76ec214a6e8c7"
      },
      "cell_type": "code",
      "source": "dt_prediction = dt.predict(X_test)\ndt_score=accuracy_score(y_test, dt_prediction)\nprint(dt_score)",
      "execution_count": null,
      "outputs": []
    },
    {
      "metadata": {
        "_uuid": "3fbf6f1acfcc4e1b4a5a14fe917410fc8fce2755"
      },
      "cell_type": "markdown",
      "source": "<a id=\"48\"></a>\n### 4.8 ExtraTreeRegressor\nExtra Tree Regressor differ from classic decision trees in the way they are built. When loogin for the best split to separate the samples of a node into two groups, random splits are drawn for each of the max_features randomly selected features and tthe best split among those is chosen. When max_features is set 1, this amounts to building a totally random decision tree. "
    },
    {
      "metadata": {
        "trusted": true,
        "_uuid": "f6c5195a955365cbc7f66423f58589a86bb7c85c"
      },
      "cell_type": "code",
      "source": "from sklearn.tree import ExtraTreeRegressor\n# Define mode. Specify a number for random_state to ensure same results\netr = ExtraTreeRegressor()\netr.fit(X_train, y_train)",
      "execution_count": null,
      "outputs": []
    },
    {
      "metadata": {
        "_uuid": "f318f2e3eb7445185faf48e92467dcf7751e1195"
      },
      "cell_type": "markdown",
      "source": "Get the score"
    },
    {
      "metadata": {
        "trusted": true,
        "_uuid": "8a391c388d7d4aa29cf8fbabb6695dc5430ff58d"
      },
      "cell_type": "code",
      "source": "etr_prediction = etr.predict(X_test)\netr_score = accuracy_score(y_test, etr_prediction)\nprint(etr_score)",
      "execution_count": null,
      "outputs": []
    },
    {
      "metadata": {
        "trusted": true,
        "_uuid": "50ca3261939b9038dfc237df83ce3a7834b50993"
      },
      "cell_type": "code",
      "source": "",
      "execution_count": null,
      "outputs": []
    }
  ],
  "metadata": {
    "kernelspec": {
      "display_name": "Python 3",
      "language": "python",
      "name": "python3"
    },
    "language_info": {
      "name": "python",
      "version": "3.6.6",
      "mimetype": "text/x-python",
      "codemirror_mode": {
        "name": "ipython",
        "version": 3
      },
      "pygments_lexer": "ipython3",
      "nbconvert_exporter": "python",
      "file_extension": ".py"
    }
  },
  "nbformat": 4,
  "nbformat_minor": 1
}